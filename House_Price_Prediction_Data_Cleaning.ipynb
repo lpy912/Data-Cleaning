{
 "cells": [
  {
   "cell_type": "code",
   "execution_count": 190,
   "metadata": {},
   "outputs": [],
   "source": [
    "import pandas as pd\n",
    "import re"
   ]
  },
  {
   "cell_type": "code",
   "execution_count": 191,
   "metadata": {},
   "outputs": [],
   "source": [
    "#import files as dataframes for easy manipulation and cleaning\n",
    "kl=pd.read_csv(\"mudah_kl_add.csv\")\n",
    "sel=pd.read_csv(\"mudah_sel_add.csv\")"
   ]
  },
  {
   "cell_type": "code",
   "execution_count": 192,
   "metadata": {},
   "outputs": [
    {
     "data": {
      "text/plain": [
       "array([ True,  True,  True,  True,  True,  True,  True,  True,  True,\n",
       "        True,  True,  True,  True])"
      ]
     },
     "execution_count": 192,
     "metadata": {},
     "output_type": "execute_result"
    }
   ],
   "source": [
    "#compare columns of both files\n",
    "kl.columns==sel.columns"
   ]
  },
  {
   "cell_type": "code",
   "execution_count": 193,
   "metadata": {},
   "outputs": [],
   "source": [
    "#merge into one dataframe\n",
    "#after appending the data, the index needs to be changed as you will see two observations with index 0 for example\n",
    "klsel=pd.concat([kl,sel]).reset_index(drop=True)"
   ]
  },
  {
   "cell_type": "code",
   "execution_count": 194,
   "metadata": {},
   "outputs": [
    {
     "name": "stdout",
     "output_type": "stream",
     "text": [
      "(20507, 13)\n",
      "(20597, 13)\n",
      "(41104, 13)\n"
     ]
    }
   ],
   "source": [
    "print(kl.shape)\n",
    "print(sel.shape)\n",
    "print(klsel.shape)"
   ]
  },
  {
   "cell_type": "code",
   "execution_count": 195,
   "metadata": {},
   "outputs": [
    {
     "name": "stdout",
     "output_type": "stream",
     "text": [
      "<class 'pandas.core.frame.DataFrame'>\n",
      "RangeIndex: 41104 entries, 0 to 41103\n",
      "Data columns (total 13 columns):\n",
      "Unnamed: 0      41104 non-null int64\n",
      "Unnamed: 0.1    41104 non-null int64\n",
      "Area            41104 non-null object\n",
      "Price           41104 non-null object\n",
      "Bedroom         38414 non-null object\n",
      "Bathroom        38421 non-null object\n",
      "Type            38440 non-null object\n",
      "SquareFeet      39383 non-null object\n",
      "link            41104 non-null object\n",
      "Title           41104 non-null object\n",
      "Oth_Info        41104 non-null object\n",
      "Carpark         16316 non-null float64\n",
      "Facilities      25856 non-null object\n",
      "dtypes: float64(1), int64(2), object(10)\n",
      "memory usage: 4.1+ MB\n"
     ]
    }
   ],
   "source": [
    "#inspect the data\n",
    "klsel.info()"
   ]
  },
  {
   "cell_type": "code",
   "execution_count": 196,
   "metadata": {},
   "outputs": [
    {
     "data": {
      "text/html": [
       "<div>\n",
       "<style scoped>\n",
       "    .dataframe tbody tr th:only-of-type {\n",
       "        vertical-align: middle;\n",
       "    }\n",
       "\n",
       "    .dataframe tbody tr th {\n",
       "        vertical-align: top;\n",
       "    }\n",
       "\n",
       "    .dataframe thead th {\n",
       "        text-align: right;\n",
       "    }\n",
       "</style>\n",
       "<table border=\"1\" class=\"dataframe\">\n",
       "  <thead>\n",
       "    <tr style=\"text-align: right;\">\n",
       "      <th></th>\n",
       "      <th>Unnamed: 0</th>\n",
       "      <th>Unnamed: 0.1</th>\n",
       "      <th>Area</th>\n",
       "      <th>Price</th>\n",
       "      <th>Bedroom</th>\n",
       "      <th>Bathroom</th>\n",
       "      <th>Type</th>\n",
       "      <th>SquareFeet</th>\n",
       "      <th>link</th>\n",
       "      <th>Title</th>\n",
       "      <th>Oth_Info</th>\n",
       "      <th>Carpark</th>\n",
       "      <th>Facilities</th>\n",
       "    </tr>\n",
       "  </thead>\n",
       "  <tbody>\n",
       "    <tr>\n",
       "      <td>0</td>\n",
       "      <td>0</td>\n",
       "      <td>0</td>\n",
       "      <td>OUG</td>\n",
       "      <td>RM 3 999 000</td>\n",
       "      <td>8 Bedrooms</td>\n",
       "      <td>8 Bathrooms</td>\n",
       "      <td>Houses</td>\n",
       "      <td>7000 sq.ft</td>\n",
       "      <td>https://www.mudah.my/Happy+Garden+Bungalow+3+S...</td>\n",
       "      <td>Freehold</td>\n",
       "      <td>Non Bumi Lot</td>\n",
       "      <td>NaN</td>\n",
       "      <td>NaN</td>\n",
       "    </tr>\n",
       "    <tr>\n",
       "      <td>1</td>\n",
       "      <td>1</td>\n",
       "      <td>1</td>\n",
       "      <td>Desa ParkCity</td>\n",
       "      <td>RM 3 300 000</td>\n",
       "      <td>4 Bedrooms</td>\n",
       "      <td>3 Bathrooms</td>\n",
       "      <td>Houses</td>\n",
       "      <td>2379 sq.ft</td>\n",
       "      <td>https://www.mudah.my/Desa+park+city+zenia+end+...</td>\n",
       "      <td>Freehold</td>\n",
       "      <td>Non Bumi Lot</td>\n",
       "      <td>NaN</td>\n",
       "      <td>Swimming Pool, Gymnasium, Playground, Jogging ...</td>\n",
       "    </tr>\n",
       "    <tr>\n",
       "      <td>2</td>\n",
       "      <td>2</td>\n",
       "      <td>2</td>\n",
       "      <td>Wangsa Maju</td>\n",
       "      <td>RM 590 000</td>\n",
       "      <td>4 Bedrooms</td>\n",
       "      <td>2 Bathrooms</td>\n",
       "      <td>Apartments</td>\n",
       "      <td>1065 sq.ft</td>\n",
       "      <td>https://www.mudah.my/QN+Residence+Jalan+Wangsa...</td>\n",
       "      <td>Leasehold</td>\n",
       "      <td>Non Bumi Lot</td>\n",
       "      <td>2.0</td>\n",
       "      <td>Swimming Pool, Gymnasium, Playground, Jogging ...</td>\n",
       "    </tr>\n",
       "    <tr>\n",
       "      <td>3</td>\n",
       "      <td>3</td>\n",
       "      <td>2</td>\n",
       "      <td>Wangsa Maju</td>\n",
       "      <td>RM 590 000</td>\n",
       "      <td>4 Bedrooms</td>\n",
       "      <td>2 Bathrooms</td>\n",
       "      <td>Apartments</td>\n",
       "      <td>1065 sq.ft</td>\n",
       "      <td>https://www.mudah.my/QN+Residence+Jalan+Wangsa...</td>\n",
       "      <td>Leasehold</td>\n",
       "      <td>Non Bumi Lot</td>\n",
       "      <td>2.0</td>\n",
       "      <td>Swimming Pool, Gymnasium, Playground, Jogging ...</td>\n",
       "    </tr>\n",
       "    <tr>\n",
       "      <td>4</td>\n",
       "      <td>4</td>\n",
       "      <td>4</td>\n",
       "      <td>Ampang Hilir</td>\n",
       "      <td>RM 460 000</td>\n",
       "      <td>2 Bedrooms</td>\n",
       "      <td>2 Bathrooms</td>\n",
       "      <td>Apartments</td>\n",
       "      <td>743 sq.ft</td>\n",
       "      <td>https://www.mudah.my/PANDAN+PERDANA+new+condo+...</td>\n",
       "      <td>Leasehold</td>\n",
       "      <td>Non Bumi Lot</td>\n",
       "      <td>1.0</td>\n",
       "      <td>Swimming Pool, Gymnasium, Tennis Court, Squash...</td>\n",
       "    </tr>\n",
       "  </tbody>\n",
       "</table>\n",
       "</div>"
      ],
      "text/plain": [
       "   Unnamed: 0  Unnamed: 0.1                    Area                  Price  \\\n",
       "0           0             0                 OUG          RM 3 999 000        \n",
       "1           1             1       Desa ParkCity          RM 3 300 000        \n",
       "2           2             2         Wangsa Maju            RM 590 000        \n",
       "3           3             2         Wangsa Maju            RM 590 000        \n",
       "4           4             4        Ampang Hilir            RM 460 000        \n",
       "\n",
       "        Bedroom       Bathroom          Type  SquareFeet  \\\n",
       "0   8 Bedrooms    8 Bathrooms        Houses   7000 sq.ft   \n",
       "1   4 Bedrooms    3 Bathrooms        Houses   2379 sq.ft   \n",
       "2   4 Bedrooms    2 Bathrooms    Apartments   1065 sq.ft   \n",
       "3   4 Bedrooms    2 Bathrooms    Apartments   1065 sq.ft   \n",
       "4   2 Bedrooms    2 Bathrooms    Apartments    743 sq.ft   \n",
       "\n",
       "                                                link      Title      Oth_Info  \\\n",
       "0  https://www.mudah.my/Happy+Garden+Bungalow+3+S...   Freehold  Non Bumi Lot   \n",
       "1  https://www.mudah.my/Desa+park+city+zenia+end+...   Freehold  Non Bumi Lot   \n",
       "2  https://www.mudah.my/QN+Residence+Jalan+Wangsa...  Leasehold  Non Bumi Lot   \n",
       "3  https://www.mudah.my/QN+Residence+Jalan+Wangsa...  Leasehold  Non Bumi Lot   \n",
       "4  https://www.mudah.my/PANDAN+PERDANA+new+condo+...  Leasehold  Non Bumi Lot   \n",
       "\n",
       "   Carpark                                         Facilities  \n",
       "0      NaN                                                NaN  \n",
       "1      NaN  Swimming Pool, Gymnasium, Playground, Jogging ...  \n",
       "2      2.0  Swimming Pool, Gymnasium, Playground, Jogging ...  \n",
       "3      2.0  Swimming Pool, Gymnasium, Playground, Jogging ...  \n",
       "4      1.0  Swimming Pool, Gymnasium, Tennis Court, Squash...  "
      ]
     },
     "execution_count": 196,
     "metadata": {},
     "output_type": "execute_result"
    }
   ],
   "source": [
    "klsel.head()"
   ]
  },
  {
   "cell_type": "code",
   "execution_count": 197,
   "metadata": {},
   "outputs": [
    {
     "data": {
      "text/plain": [
       "Index(['Area', 'Price', 'Bedroom', 'Bathroom', 'Type', 'SquareFeet', 'Title',\n",
       "       'Oth_Info', 'Carpark', 'Facilities'],\n",
       "      dtype='object')"
      ]
     },
     "execution_count": 197,
     "metadata": {},
     "output_type": "execute_result"
    }
   ],
   "source": [
    "#delete unused columns\n",
    "klsel=klsel.drop(['Unnamed: 0', 'Unnamed: 0.1','link'], axis=1)\n",
    "klsel.columns"
   ]
  },
  {
   "cell_type": "code",
   "execution_count": 198,
   "metadata": {},
   "outputs": [],
   "source": [
    "klsel.Area.fillna(\"NA\",inplace=True)\n",
    "klsel.Type.fillna(\"NA\",inplace=True)\n",
    "klsel.Title.fillna(\"NA\",inplace=True)\n",
    "klsel.Oth_Info.fillna(\"NA\",inplace=True)\n",
    "klsel.Facilities.fillna(\"NA\",inplace=True)"
   ]
  },
  {
   "cell_type": "code",
   "execution_count": 199,
   "metadata": {},
   "outputs": [],
   "source": [
    "#change type of Area, Type, Title, Oth_Info and Facilities into String as they are categorical variables\n",
    "klsel['Area']=klsel.Area.astype('str')\n",
    "klsel['Type']=klsel.Type.astype('str')\n",
    "klsel['Title']=klsel.Title.astype('str')\n",
    "klsel['Oth_Info']=klsel.Oth_Info.astype('str')\n",
    "klsel['Facilities']=klsel.Facilities.astype('str')"
   ]
  },
  {
   "cell_type": "code",
   "execution_count": 200,
   "metadata": {},
   "outputs": [],
   "source": [
    "#Assess the unique values\n",
    "#klsel[\"Area\"].unique() #No NA but with blank spaces in the string\n",
    "#klsel[\"Type\"].unique() #Missing value replaced with NA successfully\n",
    "#klsel['Title'].unique() #'-' is found, have to replace with NA\n",
    "#klsel['Oth_Info'].unique() #'-' is found, have to replace with NA\n",
    "#klsel['Facilities'].unique() #Missing value replaced with NA successfully"
   ]
  },
  {
   "cell_type": "code",
   "execution_count": 201,
   "metadata": {},
   "outputs": [],
   "source": [
    "klsel.Price.fillna(\"NaN\",inplace=True)\n",
    "klsel.Bedroom.fillna(\"NaN\",inplace=True)\n",
    "klsel.Bathroom.fillna(\"NaN\",inplace=True)\n",
    "klsel.Carpark.fillna(\"NaN\",inplace=True)\n",
    "klsel.SquareFeet.fillna(\"NaN\",inplace=True)"
   ]
  },
  {
   "cell_type": "code",
   "execution_count": 202,
   "metadata": {},
   "outputs": [],
   "source": [
    "#strip blank spaces in all columns (left and right of the strings)\n",
    "klsel= klsel.apply(lambda x: x.str.strip() if x.dtype == \"object\" else x)"
   ]
  },
  {
   "cell_type": "code",
   "execution_count": 203,
   "metadata": {},
   "outputs": [],
   "source": [
    "#strip blank spaces within the strings for price and strip RM in each row\n",
    "#for eg. RM 3 999 000 with regular expression\n",
    "klsel['Price']=klsel.Price.apply(lambda y: y.replace(\" \",\"\").replace(\"RM\",\"\"))"
   ]
  },
  {
   "cell_type": "code",
   "execution_count": 204,
   "metadata": {},
   "outputs": [],
   "source": [
    "#strip units from columns\n",
    "klsel['Bedroom']=klsel.Bedroom.astype('str')\n",
    "klsel['Bathroom']=klsel.Bathroom.astype('str')\n",
    "klsel['Bedroom']=klsel.Bedroom.apply(lambda z: z.replace(\"Bedrooms\",\"\").replace(\"Bedroom\",\"\"))\n",
    "klsel['Bathroom']=klsel.Bathroom.apply(lambda a: a.replace(\"Bathrooms\",\"\").replace(\"Bathroom\",\"\"))"
   ]
  },
  {
   "cell_type": "code",
   "execution_count": 205,
   "metadata": {},
   "outputs": [],
   "source": [
    "#replace '-' with NA\n",
    "klsel['Title']=klsel.Title.apply(lambda z:z.replace(\"-\",\"NA\"))\n",
    "klsel['Oth_Info']=klsel.Oth_Info.apply(lambda z:z.replace(\"-\",\"NA\"))"
   ]
  },
  {
   "cell_type": "markdown",
   "metadata": {},
   "source": [
    "Convert acres into square feet<br>\n",
    "1.Create a dummy column to store the unit of measurement<br>\n",
    "2.select by condition only rows with acres<br>\n",
    "3.convert the selected rows from acres to square feet with a factor of 43560"
   ]
  },
  {
   "cell_type": "code",
   "execution_count": 206,
   "metadata": {},
   "outputs": [],
   "source": [
    "#Create a dummy column to store the unit of measurement\n",
    "klsel['UOM'] = klsel.SquareFeet.astype(str).apply(lambda x : 'Acres' if 'Acres' in x else 'SqFt')"
   ]
  },
  {
   "cell_type": "code",
   "execution_count": 207,
   "metadata": {},
   "outputs": [],
   "source": [
    "#strip all UOM from the column SquareFeet\n",
    "klsel['SquareFeet']=klsel.SquareFeet.astype(str).apply(lambda y:y.replace(\"Acres\",\"\").replace(\"sq.ft\",\"\"))"
   ]
  },
  {
   "cell_type": "code",
   "execution_count": 208,
   "metadata": {},
   "outputs": [],
   "source": [
    "#Select only rows with UOM==acres and multiply the value in that row with 43560\n",
    "klsel['SquareFeet']=klsel.SquareFeet.astype('float')\n",
    "klsel.loc[klsel.UOM==\"Acres\", 'SquareFeet'] = klsel.SquareFeet*43560"
   ]
  },
  {
   "cell_type": "code",
   "execution_count": 209,
   "metadata": {},
   "outputs": [],
   "source": [
    "#Delete dummy column UOM\n",
    "klsel=klsel.drop(['UOM'], axis=1)"
   ]
  },
  {
   "cell_type": "code",
   "execution_count": 210,
   "metadata": {},
   "outputs": [],
   "source": [
    "#change type of Price,Bedroom, Bathroom, Carpark and SquareFeet into int or float as they are the numerical variables\n",
    "#before that, it is treated as string for easy manipulation\n",
    "klsel['Price']=klsel.Price.astype('float')\n",
    "klsel['Bedroom']=klsel.Bedroom.astype('float')\n",
    "klsel['Bathroom']=klsel.Bathroom.astype('float')\n",
    "klsel['Carpark']=klsel.Carpark.astype('float')"
   ]
  },
  {
   "cell_type": "code",
   "execution_count": 212,
   "metadata": {},
   "outputs": [],
   "source": [
    "#write the final output into a single file\n",
    "klsel.to_csv('cleaned_houseprice.csv', index=False)"
   ]
  }
 ],
 "metadata": {
  "kernelspec": {
   "display_name": "Python 3",
   "language": "python",
   "name": "python3"
  },
  "language_info": {
   "codemirror_mode": {
    "name": "ipython",
    "version": 3
   },
   "file_extension": ".py",
   "mimetype": "text/x-python",
   "name": "python",
   "nbconvert_exporter": "python",
   "pygments_lexer": "ipython3",
   "version": "3.7.4"
  }
 },
 "nbformat": 4,
 "nbformat_minor": 2
}
